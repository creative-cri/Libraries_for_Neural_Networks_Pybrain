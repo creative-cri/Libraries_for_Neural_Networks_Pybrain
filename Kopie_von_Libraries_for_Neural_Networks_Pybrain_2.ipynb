{
  "nbformat": 4,
  "nbformat_minor": 0,
  "metadata": {
    "colab": {
      "name": "Kopie von Libraries for Neural Networks - Pybrain 2.ipynb",
      "provenance": []
    },
    "kernelspec": {
      "name": "python3",
      "display_name": "Python 3"
    }
  },
  "cells": [
    {
      "cell_type": "markdown",
      "metadata": {
        "id": "ZjL4mldO_t43"
      },
      "source": [
        "# Libraries for Neural Networks - Pybrain 2"
      ]
    },
    {
      "cell_type": "code",
      "metadata": {
        "id": "QggR_r8VWku0",
        "colab": {
          "base_uri": "https://localhost:8080/"
        },
        "outputId": "e36db365-155c-4a26-b09b-b697203e9a8a"
      },
      "source": [
        "!pip install https://github.com/pybrain/pybrain/archive/0.3.3.zip"
      ],
      "execution_count": 1,
      "outputs": [
        {
          "output_type": "stream",
          "name": "stdout",
          "text": [
            "Looking in indexes: https://pypi.org/simple, https://us-python.pkg.dev/colab-wheels/public/simple/\n",
            "Collecting https://github.com/pybrain/pybrain/archive/0.3.3.zip\n",
            "  Downloading https://github.com/pybrain/pybrain/archive/0.3.3.zip\n",
            "\u001b[K     | 1.5 MB 2.7 MB/s\n",
            "\u001b[?25hRequirement already satisfied: scipy in /usr/local/lib/python3.7/dist-packages (from PyBrain==0.3.1) (1.4.1)\n",
            "Requirement already satisfied: numpy>=1.13.3 in /usr/local/lib/python3.7/dist-packages (from scipy->PyBrain==0.3.1) (1.21.6)\n",
            "Building wheels for collected packages: PyBrain\n",
            "  Building wheel for PyBrain (setup.py) ... \u001b[?25l\u001b[?25hdone\n",
            "  Created wheel for PyBrain: filename=PyBrain-0.3.1-py3-none-any.whl size=468230 sha256=bc66fc675956647cac7091c3ec476e259274bbca6b2012f2ac2fd1580a706379\n",
            "  Stored in directory: /tmp/pip-ephem-wheel-cache-6cccinr5/wheels/c7/56/4e/56d3dbbc48a90306f3ac2cc356de1d6d327090889fc0b29c6f\n",
            "Successfully built PyBrain\n",
            "Installing collected packages: PyBrain\n",
            "Successfully installed PyBrain-0.3.1\n"
          ]
        }
      ]
    },
    {
      "cell_type": "code",
      "metadata": {
        "id": "isKu26S0BsSK"
      },
      "source": [
        "import pybrain"
      ],
      "execution_count": 3,
      "outputs": []
    },
    {
      "cell_type": "code",
      "metadata": {
        "id": "dsPx32vBgHZi"
      },
      "source": [
        "from pybrain.tools.shortcuts import buildNetwork\n",
        "from pybrain.datasets import SupervisedDataSet\n",
        "from pybrain.supervised import BackpropTrainer\n",
        "from pybrain.structure.modules import SigmoidLayer"
      ],
      "execution_count": 4,
      "outputs": []
    },
    {
      "cell_type": "code",
      "metadata": {
        "id": "vLeQDaZNg1IJ"
      },
      "source": [
        "network = buildNetwork(2, 3, 1, outclass = SigmoidLayer, hiddenclass = SigmoidLayer, bias = False)"
      ],
      "execution_count": 5,
      "outputs": []
    },
    {
      "cell_type": "code",
      "metadata": {
        "id": "30JNdjDihH60",
        "colab": {
          "base_uri": "https://localhost:8080/"
        },
        "outputId": "26af98bd-c092-43a8-bc61-a0e9c086fd52"
      },
      "source": [
        "network"
      ],
      "execution_count": 6,
      "outputs": [
        {
          "output_type": "execute_result",
          "data": {
            "text/plain": [
              "<FeedForwardNetwork 'FeedForwardNetwork-5'>"
            ]
          },
          "metadata": {},
          "execution_count": 6
        }
      ]
    },
    {
      "cell_type": "code",
      "metadata": {
        "id": "q3OYu-qehT50",
        "colab": {
          "base_uri": "https://localhost:8080/"
        },
        "outputId": "7999d184-2638-4d3d-c2bd-b8a585697f95"
      },
      "source": [
        "network['in']"
      ],
      "execution_count": 7,
      "outputs": [
        {
          "output_type": "execute_result",
          "data": {
            "text/plain": [
              "<LinearLayer 'in'>"
            ]
          },
          "metadata": {},
          "execution_count": 7
        }
      ]
    },
    {
      "cell_type": "code",
      "metadata": {
        "id": "NE12WNP5hehk",
        "colab": {
          "base_uri": "https://localhost:8080/"
        },
        "outputId": "c737115b-e4ce-416b-a66c-f577daa8f41c"
      },
      "source": [
        "network['hidden0']"
      ],
      "execution_count": 8,
      "outputs": [
        {
          "output_type": "execute_result",
          "data": {
            "text/plain": [
              "<SigmoidLayer 'hidden0'>"
            ]
          },
          "metadata": {},
          "execution_count": 8
        }
      ]
    },
    {
      "cell_type": "code",
      "metadata": {
        "id": "dVwp23G1hojZ",
        "colab": {
          "base_uri": "https://localhost:8080/"
        },
        "outputId": "7f22c66d-c78d-48bd-f01a-a5e9bdf72a50"
      },
      "source": [
        "network['out']"
      ],
      "execution_count": 9,
      "outputs": [
        {
          "output_type": "execute_result",
          "data": {
            "text/plain": [
              "<SigmoidLayer 'out'>"
            ]
          },
          "metadata": {},
          "execution_count": 9
        }
      ]
    },
    {
      "cell_type": "code",
      "metadata": {
        "id": "pNhkxlQ7hxf1"
      },
      "source": [
        "network['bias']"
      ],
      "execution_count": 10,
      "outputs": []
    },
    {
      "cell_type": "code",
      "metadata": {
        "id": "flIl95maidTS"
      },
      "source": [
        "dataset = SupervisedDataSet(2, 1)\n",
        "dataset.addSample((0,0), (0,))\n",
        "dataset.addSample((0,1), (1,))\n",
        "dataset.addSample((1,0), (1,))\n",
        "dataset.addSample((1,1), (0,))"
      ],
      "execution_count": 11,
      "outputs": []
    },
    {
      "cell_type": "code",
      "metadata": {
        "id": "buI96ok3i6BX",
        "colab": {
          "base_uri": "https://localhost:8080/"
        },
        "outputId": "9e43f465-aee5-4c3d-c045-8afff2a31307"
      },
      "source": [
        "dataset['input']"
      ],
      "execution_count": 12,
      "outputs": [
        {
          "output_type": "execute_result",
          "data": {
            "text/plain": [
              "array([[0., 0.],\n",
              "       [0., 1.],\n",
              "       [1., 0.],\n",
              "       [1., 1.]])"
            ]
          },
          "metadata": {},
          "execution_count": 12
        }
      ]
    },
    {
      "cell_type": "code",
      "metadata": {
        "id": "NwK36y6Ai9Cs",
        "colab": {
          "base_uri": "https://localhost:8080/"
        },
        "outputId": "89d1ceb8-2b35-48ed-ae2e-aaf939fa2ab2"
      },
      "source": [
        "dataset['target']"
      ],
      "execution_count": 13,
      "outputs": [
        {
          "output_type": "execute_result",
          "data": {
            "text/plain": [
              "array([[0.],\n",
              "       [1.],\n",
              "       [1.],\n",
              "       [0.]])"
            ]
          },
          "metadata": {},
          "execution_count": 13
        }
      ]
    },
    {
      "cell_type": "code",
      "metadata": {
        "id": "NSWR6iOEjA2z"
      },
      "source": [
        "optimizer = BackpropTrainer(module=network, dataset=dataset, learningrate=0.5)"
      ],
      "execution_count": 14,
      "outputs": []
    },
    {
      "cell_type": "code",
      "metadata": {
        "id": "WhlJpCCbjMfK",
        "colab": {
          "base_uri": "https://localhost:8080/"
        },
        "outputId": "156c69ed-f76b-4b04-884d-b4b4b488f5bd"
      },
      "source": [
        "epochs = 30000\n",
        "error = []\n",
        "for epoch in range(epochs):\n",
        "  error_average = optimizer.train()\n",
        "  if epoch % 1000 == 0:\n",
        "    print('Epoch: ' + str(epoch + 1) + ' Error: ' + str(error_average))\n",
        "    error.append(error_average)"
      ],
      "execution_count": 15,
      "outputs": [
        {
          "output_type": "stream",
          "name": "stdout",
          "text": [
            "Epoch: 1 Error: 0.13046699958667404\n",
            "Epoch: 1001 Error: 0.008224086344474125\n",
            "Epoch: 2001 Error: 0.0029905338646010887\n",
            "Epoch: 3001 Error: 0.0018130958127619422\n",
            "Epoch: 4001 Error: 0.0012969715799776675\n",
            "Epoch: 5001 Error: 0.0010079475775541073\n",
            "Epoch: 6001 Error: 0.000823446513104793\n",
            "Epoch: 7001 Error: 0.0006955805983928006\n",
            "Epoch: 8001 Error: 0.0006018072130350531\n",
            "Epoch: 9001 Error: 0.000530132943783129\n",
            "Epoch: 10001 Error: 0.00047359039698161855\n",
            "Epoch: 11001 Error: 0.00042785973395284197\n",
            "Epoch: 12001 Error: 0.00039011932399236464\n",
            "Epoch: 13001 Error: 0.0003584495365660207\n",
            "Epoch: 14001 Error: 0.00033149917520096785\n",
            "Epoch: 15001 Error: 0.0003082894808718061\n",
            "Epoch: 16001 Error: 0.0002880946786739606\n",
            "Epoch: 17001 Error: 0.0002703647962706042\n",
            "Epoch: 18001 Error: 0.00025467589821555103\n",
            "Epoch: 19001 Error: 0.0002406957784319204\n",
            "Epoch: 20001 Error: 0.00022816050452731737\n",
            "Epoch: 21001 Error: 0.0002168577718407028\n",
            "Epoch: 22001 Error: 0.00020661478948704365\n",
            "Epoch: 23001 Error: 0.00019728966946939167\n",
            "Epoch: 24001 Error: 0.0001887646358119233\n",
            "Epoch: 25001 Error: 0.00018094127790742434\n",
            "Epoch: 26001 Error: 0.00017373662011883797\n",
            "Epoch: 27001 Error: 0.00016708027373491492\n",
            "Epoch: 28001 Error: 0.00016091209798472432\n",
            "Epoch: 29001 Error: 0.00015518044683571536\n"
          ]
        }
      ]
    },
    {
      "cell_type": "code",
      "metadata": {
        "id": "wWs0NoIXju6a",
        "colab": {
          "base_uri": "https://localhost:8080/",
          "height": 296
        },
        "outputId": "da2c061b-c9ec-4ce3-b59e-b5d47dc3a193"
      },
      "source": [
        "import matplotlib.pyplot as plt\n",
        "plt.xlabel('Epoch')\n",
        "plt.ylabel('Error')\n",
        "plt.plot(error)"
      ],
      "execution_count": 16,
      "outputs": [
        {
          "output_type": "execute_result",
          "data": {
            "text/plain": [
              "[<matplotlib.lines.Line2D at 0x7fcb4850c450>]"
            ]
          },
          "metadata": {},
          "execution_count": 16
        },
        {
          "output_type": "display_data",
          "data": {
            "text/plain": [
              "<Figure size 432x288 with 1 Axes>"
            ],
            "image/png": "[encoded data removed]"
          },
          "metadata": {
            "needs_background": "light"
          }
        }
      ]
    },
    {
      "cell_type": "code",
      "metadata": {
        "id": "2lAztDBOj-uY",
        "colab": {
          "base_uri": "https://localhost:8080/"
        },
        "outputId": "02524fdf-c60b-40ae-9f3d-60484b77c6b6"
      },
      "source": [
        "network.params"
      ],
      "execution_count": 17,
      "outputs": [
        {
          "output_type": "execute_result",
          "data": {
            "text/plain": [
              "array([ -4.25157567,   6.72278672,   5.57193432,   5.59638161,\n",
              "         6.52773501,  -4.18251292, -11.58432067,  15.93648258,\n",
              "       -11.59720616])"
            ]
          },
          "metadata": {},
          "execution_count": 17
        }
      ]
    },
    {
      "cell_type": "code",
      "metadata": {
        "id": "XYuPPC5ckPlS",
        "colab": {
          "base_uri": "https://localhost:8080/"
        },
        "outputId": "4348da3c-fbd7-4a06-ebc4-f0b967c1e764"
      },
      "source": [
        "network.activate([0,0])"
      ],
      "execution_count": 18,
      "outputs": [
        {
          "output_type": "execute_result",
          "data": {
            "text/plain": [
              "array([0.02602008])"
            ]
          },
          "metadata": {},
          "execution_count": 18
        }
      ]
    },
    {
      "cell_type": "code",
      "metadata": {
        "id": "aWWui9LqkYla",
        "colab": {
          "base_uri": "https://localhost:8080/"
        },
        "outputId": "b5ab8839-464b-41ba-9601-bf8feb684b65"
      },
      "source": [
        "network.activate([0,1])"
      ],
      "execution_count": 19,
      "outputs": [
        {
          "output_type": "execute_result",
          "data": {
            "text/plain": [
              "array([0.98421591])"
            ]
          },
          "metadata": {},
          "execution_count": 19
        }
      ]
    },
    {
      "cell_type": "code",
      "metadata": {
        "id": "iEoFyaLnkbVC",
        "colab": {
          "base_uri": "https://localhost:8080/"
        },
        "outputId": "3c7d2b08-04d0-4f46-89dd-6faccc556abf"
      },
      "source": [
        "network.activate([1,0])"
      ],
      "execution_count": 20,
      "outputs": [
        {
          "output_type": "execute_result",
          "data": {
            "text/plain": [
              "array([0.98422095])"
            ]
          },
          "metadata": {},
          "execution_count": 20
        }
      ]
    },
    {
      "cell_type": "code",
      "metadata": {
        "id": "W-ZAV2Y9kgQw",
        "colab": {
          "base_uri": "https://localhost:8080/"
        },
        "outputId": "0aa3b1ab-1ce4-404b-8b96-fdc0db576635"
      },
      "source": [
        "network.activate([1,1])"
      ],
      "execution_count": 21,
      "outputs": [
        {
          "output_type": "execute_result",
          "data": {
            "text/plain": [
              "array([0.00482694])"
            ]
          },
          "metadata": {},
          "execution_count": 21
        }
      ]
    }
  ]
}