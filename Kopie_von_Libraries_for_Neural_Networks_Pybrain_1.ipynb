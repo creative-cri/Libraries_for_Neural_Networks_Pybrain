{
  "nbformat": 4,
  "nbformat_minor": 0,
  "metadata": {
    "colab": {
      "name": "Kopie von Libraries for Neural Networks - Pybrain 1.ipynb",
      "provenance": [],
      "collapsed_sections": []
    },
    "kernelspec": {
      "name": "python3",
      "display_name": "Python 3"
    }
  },
  "cells": [
    {
      "cell_type": "markdown",
      "metadata": {
        "id": "ZjL4mldO_t43"
      },
      "source": [
        "# Libraries for Neural Networks - Pybrain 1"
      ]
    },
    {
      "cell_type": "code",
      "metadata": {
        "id": "XFg0-w7mawGW",
        "outputId": "fc80ccbb-4b30-4eb1-9149-e51fa309853a",
        "colab": {
          "base_uri": "https://localhost:8080/"
        }
      },
      "source": [
        "!pip install https://github.com/pybrain/pybrain/archive/0.3.3.zip"
      ],
      "execution_count": 1,
      "outputs": [
        {
          "output_type": "stream",
          "name": "stdout",
          "text": [
            "Looking in indexes: https://pypi.org/simple, https://us-python.pkg.dev/colab-wheels/public/simple/\n",
            "Collecting https://github.com/pybrain/pybrain/archive/0.3.3.zip\n",
            "  Downloading https://github.com/pybrain/pybrain/archive/0.3.3.zip\n",
            "\u001b[K     / 1.5 MB 2.0 MB/s\n",
            "\u001b[?25hRequirement already satisfied: scipy in /usr/local/lib/python3.7/dist-packages (from PyBrain==0.3.1) (1.4.1)\n",
            "Requirement already satisfied: numpy>=1.13.3 in /usr/local/lib/python3.7/dist-packages (from scipy->PyBrain==0.3.1) (1.21.6)\n",
            "Building wheels for collected packages: PyBrain\n",
            "  Building wheel for PyBrain (setup.py) ... \u001b[?25l\u001b[?25hdone\n",
            "  Created wheel for PyBrain: filename=PyBrain-0.3.1-py3-none-any.whl size=468230 sha256=17b31a21adcc4861b76678a86b544ee5aa6f7bc87cbae5b185c712319cdd2e29\n",
            "  Stored in directory: /tmp/pip-ephem-wheel-cache-8ih7viki/wheels/c7/56/4e/56d3dbbc48a90306f3ac2cc356de1d6d327090889fc0b29c6f\n",
            "Successfully built PyBrain\n",
            "Installing collected packages: PyBrain\n",
            "Successfully installed PyBrain-0.3.1\n"
          ]
        }
      ]
    },
    {
      "cell_type": "code",
      "metadata": {
        "id": "0uHk540CbAh1"
      },
      "source": [
        "import pybrain"
      ],
      "execution_count": 3,
      "outputs": []
    },
    {
      "cell_type": "code",
      "metadata": {
        "id": "NbZWFjNUbXv4"
      },
      "source": [
        "from pybrain.structure import FeedForwardNetwork\n",
        "from pybrain.structure import SigmoidLayer, LinearLayer, BiasUnit\n",
        "from pybrain.structure import FullConnection"
      ],
      "execution_count": 4,
      "outputs": []
    },
    {
      "cell_type": "code",
      "metadata": {
        "id": "VUZRypPkcW_V"
      },
      "source": [
        "network = FeedForwardNetwork()"
      ],
      "execution_count": 5,
      "outputs": []
    },
    {
      "cell_type": "code",
      "metadata": {
        "id": "HznqHcrscmsL"
      },
      "source": [
        "input_layer = LinearLayer(2)\n",
        "hidden_layer = SigmoidLayer(3)\n",
        "output_layer = SigmoidLayer(1)\n",
        "bias0 = BiasUnit()\n",
        "bias1 = BiasUnit()"
      ],
      "execution_count": 6,
      "outputs": []
    },
    {
      "cell_type": "code",
      "metadata": {
        "id": "4YjmIeSRdW3M"
      },
      "source": [
        "network.addModule(input_layer)\n",
        "network.addModule(hidden_layer)\n",
        "network.addModule(output_layer)\n",
        "network.addModule(bias0)\n",
        "network.addModule(bias1)"
      ],
      "execution_count": 7,
      "outputs": []
    },
    {
      "cell_type": "code",
      "metadata": {
        "id": "TNShu4KudzVU"
      },
      "source": [
        "input_to_hidden = FullConnection(input_layer, hidden_layer)\n",
        "hidden_to_output = FullConnection(hidden_layer, output_layer)\n",
        "bias_hidden = FullConnection(bias0, hidden_layer)\n",
        "bias_output = FullConnection(bias1, output_layer)"
      ],
      "execution_count": 8,
      "outputs": []
    },
    {
      "cell_type": "code",
      "metadata": {
        "id": "bm6Iw-bxeLlP"
      },
      "source": [
        "network.sortModules()"
      ],
      "execution_count": 9,
      "outputs": []
    },
    {
      "cell_type": "code",
      "metadata": {
        "id": "YhayaWeuebJ1",
        "outputId": "5bbc81a8-75dc-4e41-f502-f33f91820ec9",
        "colab": {
          "base_uri": "https://localhost:8080/"
        }
      },
      "source": [
        "print(network)"
      ],
      "execution_count": 10,
      "outputs": [
        {
          "output_type": "stream",
          "name": "stdout",
          "text": [
            "FeedForwardNetwork-10\n",
            "   Modules:\n",
            "    [<BiasUnit 'BiasUnit-5'>, <BiasUnit 'BiasUnit-7'>, <LinearLayer 'LinearLayer-9'>, <SigmoidLayer 'SigmoidLayer-6'>, <SigmoidLayer 'SigmoidLayer-8'>]\n",
            "   Connections:\n",
            "    []\n",
            "\n"
          ]
        }
      ]
    },
    {
      "cell_type": "code",
      "metadata": {
        "id": "E56yqvNbemLz",
        "outputId": "bb0fbf7e-d4b7-4e5d-9d8d-eedabee79e0b",
        "colab": {
          "base_uri": "https://localhost:8080/"
        }
      },
      "source": [
        "print(input_to_hidden.params)"
      ],
      "execution_count": 11,
      "outputs": [
        {
          "output_type": "stream",
          "name": "stdout",
          "text": [
            "[ 1.24908294 -0.63044991 -0.82497047 -1.06297937 -0.0446513  -0.46043336]\n"
          ]
        }
      ]
    },
    {
      "cell_type": "code",
      "metadata": {
        "id": "OAOwCLPnex6v",
        "outputId": "063e29b8-eebd-407e-e930-8dbf132bc31e",
        "colab": {
          "base_uri": "https://localhost:8080/"
        }
      },
      "source": [
        "print(hidden_to_output.params)"
      ],
      "execution_count": 12,
      "outputs": [
        {
          "output_type": "stream",
          "name": "stdout",
          "text": [
            "[-0.68762436  1.22302777  0.16228539]\n"
          ]
        }
      ]
    },
    {
      "cell_type": "code",
      "metadata": {
        "id": "WQjsPaQ8e7E5",
        "outputId": "9845721b-3173-48c4-b7e4-194319237d42",
        "colab": {
          "base_uri": "https://localhost:8080/"
        }
      },
      "source": [
        "print(bias_hidden.params)"
      ],
      "execution_count": 13,
      "outputs": [
        {
          "output_type": "stream",
          "name": "stdout",
          "text": [
            "[ 0.19479828 -0.48382758 -0.4662178 ]\n"
          ]
        }
      ]
    },
    {
      "cell_type": "code",
      "metadata": {
        "id": "Dsk-MJB5fDwG",
        "outputId": "1ea2c4ee-8ccf-44c9-b05b-d3daf4ae411d",
        "colab": {
          "base_uri": "https://localhost:8080/"
        }
      },
      "source": [
        "print(bias_output.params)"
      ],
      "execution_count": 14,
      "outputs": [
        {
          "output_type": "stream",
          "name": "stdout",
          "text": [
            "[0.40184703]\n"
          ]
        }
      ]
    }
  ]
}